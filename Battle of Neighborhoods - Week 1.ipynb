{
 "cells": [
  {
   "cell_type": "markdown",
   "metadata": {},
   "source": [
    "## Capstone Project - The Battle of Neighborhoods (Week 1)"
   ]
  },
  {
   "cell_type": "markdown",
   "metadata": {},
   "source": [
    "### 1 - Introduction"
   ]
  },
  {
   "cell_type": "markdown",
   "metadata": {},
   "source": [
    "As much as I'd like to dive directly into the data I've collected, processed, analyzed and subsequently designed and tested unsupervised learning models on, the requirements of the project say that I need to give a bit of background context. So, firstly, I need to talk a bit about Canada - more specifically, I need to tell you a bit about its largest city - Toronto."
   ]
  },
  {
   "cell_type": "markdown",
   "metadata": {},
   "source": [
    "__Toronto__ is the capital of the Canadian province of __Ontario__, the most highly populated province of Canada, which, logically, makes Toronto the largest city in the largest province of Canada - but don't think too quickly, it's not the _capital_ of Canada (as much as we like to think we are) - that title belongs to _Ottawa_, situated to the eastern limits of Ontario. Ottawa is quite literally a stone's throw away from Quebec, depending how close you get to the provincial line.**\n",
    "\n",
    "** I sincerely do not endorse throwing rocks into Quebec, and will fiercely deny any and all liability for your time in jail. :-("
   ]
  },
  {
   "cell_type": "markdown",
   "metadata": {},
   "source": [
    "But enough gaffing about administrative regions, provinces and whatnot - _let's get into it_."
   ]
  },
  {
   "cell_type": "markdown",
   "metadata": {},
   "source": [
    "#### 1a) Problem & Background"
   ]
  },
  {
   "cell_type": "markdown",
   "metadata": {},
   "source": [
    "I work within a hypothetical data analytics firm that has been contracted by it's hypothetical client, WhaMiFiDo Foods (hereby abbreviated as WMFD). WMFD is the transnational holding body for several quick- and full-service restaurants that focus mainly on the Brazilian, West Indian/Caribbean and Southern U.S.A. cuisine segments.\n",
    "\n",
    "And, as luck would have it, WMFD is contemplating an expansion into Toronto! Good news."
   ]
  },
  {
   "cell_type": "markdown",
   "metadata": {},
   "source": [
    "What we (meaning, the hypothetical firm I am hypothetically employed by) have been tasked with is to determine where in Toronto would be the most ideal neighborhood to give WMFD's prospective restaurant the highest competitive advantage.\n",
    "\n",
    "Here comes the challenging part - we have to communicate aspects and create profiles of Toronto's city segments, and communicate these findings and recommendations to WMFD, __sight unseen__ - meaning no decision-making staff within WMFD has even so much as visited Toronto - their excuse is they're busy bees and it's too cold.\n",
    "\n",
    "\n",
    "Rich people do weird things with money.\n",
    "\n",
    "No matter, we can still get paid and get this done! (Hypothetically.)"
   ]
  },
  {
   "cell_type": "markdown",
   "metadata": {},
   "source": [
    "### 2 - The Data"
   ]
  },
  {
   "cell_type": "markdown",
   "metadata": {},
   "source": [
    "For this project submission, we're going to be sourcing the necessary data from both the __FourSquare API__ and Wikipedia's page detailing a list of all neighborhoods within Toronto's city limits - and thanks to the convenience-minded urban designers of yore, Toronto's postal codes are all prefixed with the letter __M__."
   ]
  },
  {
   "cell_type": "markdown",
   "metadata": {},
   "source": [
    "Let's describe these data sources in brief detail:"
   ]
  },
  {
   "cell_type": "markdown",
   "metadata": {},
   "source": [
    "* The __Foursquare API__ is our main endpoint through which we will create and send requests to retrieve the geospatial data necessary for our analysis. __Foursquare__ is a location-based web and mobile app founded in 2008 that recommends attractions, places and venues nearby a given user, according to the user's usage history, location history or search results.\n",
    "\n",
    "* __Wikipedia__ is used to create a local dataframe listing each of the neighborhoods and boroughs within the city limits of Toronto, arranged by Forward Service Area (FSA) - which is represented by the first three characters of a Canadian postal code.\n",
    "\n",
    "* __Statistics Canada__ is the source of the boundary coordinates data that we will use to physically define Toronto's neighborhoods on a map."
   ]
  },
  {
   "cell_type": "code",
   "execution_count": null,
   "metadata": {},
   "outputs": [],
   "source": []
  }
 ],
 "metadata": {
  "kernelspec": {
   "display_name": "Python",
   "language": "python",
   "name": "conda-env-python-py"
  },
  "language_info": {
   "codemirror_mode": {
    "name": "ipython",
    "version": 3
   },
   "file_extension": ".py",
   "mimetype": "text/x-python",
   "name": "python",
   "nbconvert_exporter": "python",
   "pygments_lexer": "ipython3",
   "version": "3.6.7"
  }
 },
 "nbformat": 4,
 "nbformat_minor": 4
}
