{
 "cells": [
  {
   "cell_type": "code",
   "execution_count": 21,
   "metadata": {},
   "outputs": [],
   "source": [
    "import plotly.graph_objects as go\n",
    "import pandas as pd"
   ]
  },
  {
   "cell_type": "code",
   "execution_count": 22,
   "metadata": {},
   "outputs": [
    {
     "data": {
      "text/html": [
       "<div>\n",
       "<style scoped>\n",
       "    .dataframe tbody tr th:only-of-type {\n",
       "        vertical-align: middle;\n",
       "    }\n",
       "\n",
       "    .dataframe tbody tr th {\n",
       "        vertical-align: top;\n",
       "    }\n",
       "\n",
       "    .dataframe thead th {\n",
       "        text-align: right;\n",
       "    }\n",
       "</style>\n",
       "<table border=\"1\" class=\"dataframe\">\n",
       "  <thead>\n",
       "    <tr style=\"text-align: right;\">\n",
       "      <th></th>\n",
       "      <th>start_lat</th>\n",
       "      <th>start_lon</th>\n",
       "      <th>end_lat</th>\n",
       "      <th>end_lon</th>\n",
       "      <th>airline</th>\n",
       "      <th>airport1</th>\n",
       "      <th>airport2</th>\n",
       "      <th>cnt</th>\n",
       "    </tr>\n",
       "  </thead>\n",
       "  <tbody>\n",
       "    <tr>\n",
       "      <th>0</th>\n",
       "      <td>32.895951</td>\n",
       "      <td>-97.037200</td>\n",
       "      <td>35.040222</td>\n",
       "      <td>-106.609194</td>\n",
       "      <td>AA</td>\n",
       "      <td>DFW</td>\n",
       "      <td>ABQ</td>\n",
       "      <td>444</td>\n",
       "    </tr>\n",
       "    <tr>\n",
       "      <th>1</th>\n",
       "      <td>41.979595</td>\n",
       "      <td>-87.904464</td>\n",
       "      <td>30.194533</td>\n",
       "      <td>-97.669872</td>\n",
       "      <td>AA</td>\n",
       "      <td>ORD</td>\n",
       "      <td>AUS</td>\n",
       "      <td>166</td>\n",
       "    </tr>\n",
       "    <tr>\n",
       "      <th>2</th>\n",
       "      <td>32.895951</td>\n",
       "      <td>-97.037200</td>\n",
       "      <td>41.938874</td>\n",
       "      <td>-72.683228</td>\n",
       "      <td>AA</td>\n",
       "      <td>DFW</td>\n",
       "      <td>BDL</td>\n",
       "      <td>162</td>\n",
       "    </tr>\n",
       "    <tr>\n",
       "      <th>3</th>\n",
       "      <td>18.439417</td>\n",
       "      <td>-66.001833</td>\n",
       "      <td>41.938874</td>\n",
       "      <td>-72.683228</td>\n",
       "      <td>AA</td>\n",
       "      <td>SJU</td>\n",
       "      <td>BDL</td>\n",
       "      <td>56</td>\n",
       "    </tr>\n",
       "    <tr>\n",
       "      <th>4</th>\n",
       "      <td>32.895951</td>\n",
       "      <td>-97.037200</td>\n",
       "      <td>33.562943</td>\n",
       "      <td>-86.753550</td>\n",
       "      <td>AA</td>\n",
       "      <td>DFW</td>\n",
       "      <td>BHM</td>\n",
       "      <td>168</td>\n",
       "    </tr>\n",
       "  </tbody>\n",
       "</table>\n",
       "</div>"
      ],
      "text/plain": [
       "   start_lat  start_lon    end_lat     end_lon airline airport1 airport2  cnt\n",
       "0  32.895951 -97.037200  35.040222 -106.609194      AA      DFW      ABQ  444\n",
       "1  41.979595 -87.904464  30.194533  -97.669872      AA      ORD      AUS  166\n",
       "2  32.895951 -97.037200  41.938874  -72.683228      AA      DFW      BDL  162\n",
       "3  18.439417 -66.001833  41.938874  -72.683228      AA      SJU      BDL   56\n",
       "4  32.895951 -97.037200  33.562943  -86.753550      AA      DFW      BHM  168"
      ]
     },
     "execution_count": 22,
     "metadata": {},
     "output_type": "execute_result"
    }
   ],
   "source": [
    "df_airports = pd.read_csv('https://raw.githubusercontent.com/plotly/datasets/master/2011_february_us_airport_traffic.csv')\n",
    "df_airports.head()\n",
    "\n",
    "df_flight_paths = pd.read_csv('https://raw.githubusercontent.com/plotly/datasets/master/2011_february_aa_flight_paths.csv')\n",
    "df_flight_paths.head()"
   ]
  },
  {
   "cell_type": "code",
   "execution_count": 23,
   "metadata": {},
   "outputs": [
    {
     "data": {
      "text/plain": [
       "Scattergeo({\n",
       "    'hoverinfo': 'text',\n",
       "    'lat': array([41.979595  , 33.64044444, 32.89595056, ..., 43.90882639, 34.681499  ,\n",
       "                  45.8076625 ]),\n",
       "    'locationmode': 'USA-states',\n",
       "    'lon': array([ -87.90446417,  -84.42694444,  -97.0372    , ...,  -92.49798722,\n",
       "                   -90.348816  , -108.5428611 ]),\n",
       "    'marker': {'color': 'rgb(255, 0, 0)', 'line': {'color': 'rgba(68, 68, 68, 0)', 'width': 3}, 'size': 2},\n",
       "    'mode': 'markers',\n",
       "    'text': array([\"Chicago O'Hare International\", 'William B Hartsfield-Atlanta Intl',\n",
       "                   'Dallas-Fort Worth International', ..., 'Rochester International',\n",
       "                   'Tunica Municipal Airport', 'Billings Logan Intl'], dtype=object),\n",
       "    'uid': '04f9d823-9fd0-4d99-934a-aaa8bb5dab27'\n",
       "})"
      ]
     },
     "execution_count": 23,
     "metadata": {},
     "output_type": "execute_result"
    }
   ],
   "source": [
    "fig = go.Figure()\n",
    "\n",
    "fig.add_trace(go.Scattergeo(\n",
    "    locationmode = 'USA-states',\n",
    "    lon = df_airports['long'],\n",
    "    lat = df_airports['lat'],\n",
    "    hoverinfo = 'text',\n",
    "    text = df_airports['airport'],\n",
    "    mode = 'markers',\n",
    "    marker = dict(\n",
    "        size = 2,\n",
    "        color = 'rgb(255, 0, 0)',\n",
    "        line = dict(\n",
    "            width = 3,\n",
    "            color = 'rgba(68, 68, 68, 0)'\n",
    "        )\n",
    "    )))"
   ]
  },
  {
   "cell_type": "code",
   "execution_count": 24,
   "metadata": {},
   "outputs": [],
   "source": [
    "flight_paths = []\n",
    "for i in range(len(df_flight_paths)):\n",
    "    fig.add_trace(\n",
    "        go.Scattergeo(\n",
    "            locationmode = 'USA-states',\n",
    "            lon = [df_flight_paths['start_lon'][i], df_flight_paths['end_lon'][i]],\n",
    "            lat = [df_flight_paths['start_lat'][i], df_flight_paths['end_lat'][i]],\n",
    "            mode = 'lines',\n",
    "            line = dict(width = 1,color = 'red'),\n",
    "            opacity = float(df_flight_paths['cnt'][i]) / float(df_flight_paths['cnt'].max()),\n",
    "        )\n",
    "    )"
   ]
  },
  {
   "cell_type": "code",
   "execution_count": 25,
   "metadata": {},
   "outputs": [
    {
     "ename": "AttributeError",
     "evalue": "'Figure' object has no attribute 'update_layout'",
     "output_type": "error",
     "traceback": [
      "\u001b[1;31m---------------------------------------------------------------------------\u001b[0m",
      "\u001b[1;31mAttributeError\u001b[0m                            Traceback (most recent call last)",
      "\u001b[1;32m<ipython-input-25-4d0739eaaec4>\u001b[0m in \u001b[0;36m<module>\u001b[1;34m\u001b[0m\n\u001b[1;32m----> 1\u001b[1;33m fig.update_layout(\n\u001b[0m\u001b[0;32m      2\u001b[0m     \u001b[0mtitle_text\u001b[0m \u001b[1;33m=\u001b[0m \u001b[1;34m'Feb. 2011 American Airline flight paths<br>(Hover for airport names)'\u001b[0m\u001b[1;33m,\u001b[0m\u001b[1;33m\u001b[0m\u001b[1;33m\u001b[0m\u001b[0m\n\u001b[0;32m      3\u001b[0m     \u001b[0mshowlegend\u001b[0m \u001b[1;33m=\u001b[0m \u001b[1;32mFalse\u001b[0m\u001b[1;33m,\u001b[0m\u001b[1;33m\u001b[0m\u001b[1;33m\u001b[0m\u001b[0m\n\u001b[0;32m      4\u001b[0m     geo = go.layout.Geo(\n\u001b[0;32m      5\u001b[0m         \u001b[0mscope\u001b[0m \u001b[1;33m=\u001b[0m \u001b[1;34m'north america'\u001b[0m\u001b[1;33m,\u001b[0m\u001b[1;33m\u001b[0m\u001b[1;33m\u001b[0m\u001b[0m\n",
      "\u001b[1;31mAttributeError\u001b[0m: 'Figure' object has no attribute 'update_layout'"
     ]
    }
   ],
   "source": [
    "fig.update_layout(\n",
    "    title_text = 'Feb. 2011 American Airline flight paths<br>(Hover for airport names)',\n",
    "    showlegend = False,\n",
    "    geo = go.layout.Geo(\n",
    "        scope = 'north america',\n",
    "        projection_type = 'azimuthal equal area',\n",
    "        showland = True,\n",
    "        landcolor = 'rgb(243, 243, 243)',\n",
    "        countrycolor = 'rgb(204, 204, 204)',\n",
    "    ),\n",
    ")"
   ]
  },
  {
   "cell_type": "code",
   "execution_count": null,
   "metadata": {},
   "outputs": [],
   "source": [
    "fig.show()"
   ]
  },
  {
   "cell_type": "code",
   "execution_count": null,
   "metadata": {},
   "outputs": [],
   "source": []
  }
 ],
 "metadata": {
  "kernelspec": {
   "display_name": "Python 3",
   "language": "python",
   "name": "python3"
  },
  "language_info": {
   "codemirror_mode": {
    "name": "ipython",
    "version": 3
   },
   "file_extension": ".py",
   "mimetype": "text/x-python",
   "name": "python",
   "nbconvert_exporter": "python",
   "pygments_lexer": "ipython3",
   "version": "3.7.1"
  }
 },
 "nbformat": 4,
 "nbformat_minor": 4
}
